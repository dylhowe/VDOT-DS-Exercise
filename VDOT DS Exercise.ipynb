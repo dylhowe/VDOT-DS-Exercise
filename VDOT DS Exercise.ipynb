{
 "cells": [
  {
   "cell_type": "markdown",
   "metadata": {},
   "source": [
    "# VDOT Project Development Data Exercise\n",
    "# Dylan Howe"
   ]
  },
  {
   "cell_type": "markdown",
   "metadata": {},
   "source": [
    "### Intent: Identify projects at risk of finishing development late based on descriptive factors of the project rather than milestone progression. \n",
    "\n",
    "### Please see the bottom of this document for results, interpretation, takeaways, and improvements.\n",
    "<br>\n",
    "The intent of this exercise is not to create the perfect predictive model or explore all aspects of VDOT's project development program, just to inspect the data and explore the viability of predicting on-time performance using information about the work being done."
   ]
  },
  {
   "cell_type": "code",
   "execution_count": 1,
   "metadata": {},
   "outputs": [],
   "source": [
    "#import dependencies\n",
    "import numpy as np\n",
    "import pandas as pd\n",
    "import seaborn as sns"
   ]
  },
  {
   "cell_type": "markdown",
   "metadata": {},
   "source": [
    "### Pull project data in from VDOT's public-facing Dashboard4"
   ]
  },
  {
   "cell_type": "code",
   "execution_count": 2,
   "metadata": {},
   "outputs": [
    {
     "name": "stderr",
     "output_type": "stream",
     "text": [
      "C:\\Anaconda\\lib\\site-packages\\openpyxl\\styles\\stylesheet.py:214: UserWarning: Workbook contains no default style, apply openpyxl's default\n",
      "  warn(\"Workbook contains no default style, apply openpyxl's default\")\n"
     ]
    },
    {
     "data": {
      "text/html": [
       "<div>\n",
       "<style scoped>\n",
       "    .dataframe tbody tr th:only-of-type {\n",
       "        vertical-align: middle;\n",
       "    }\n",
       "\n",
       "    .dataframe tbody tr th {\n",
       "        vertical-align: top;\n",
       "    }\n",
       "\n",
       "    .dataframe thead th {\n",
       "        text-align: right;\n",
       "    }\n",
       "</style>\n",
       "<table border=\"1\" class=\"dataframe\">\n",
       "  <thead>\n",
       "    <tr style=\"text-align: right;\">\n",
       "      <th></th>\n",
       "      <th>UPC</th>\n",
       "      <th>DESCRIPTION</th>\n",
       "      <th>ROUTE</th>\n",
       "      <th>ROAD_SYSTEM</th>\n",
       "      <th>SCOPE_OF_WORK</th>\n",
       "      <th>ADMINISTERED_BY</th>\n",
       "      <th>CITY_COUNTY</th>\n",
       "      <th>RESIDENCY</th>\n",
       "      <th>DISTRICT</th>\n",
       "      <th>MPO</th>\n",
       "      <th>...</th>\n",
       "      <th>SOLICIT_BIDS_80_STATUS</th>\n",
       "      <th>START_DLVR_84_PLND_START_DT</th>\n",
       "      <th>START_DLVR_84_ACT_START_DT</th>\n",
       "      <th>START_DLVR_84_PLND_END_DT</th>\n",
       "      <th>START_DLVR_84_ACT_END_DT</th>\n",
       "      <th>START_DELIVERY_84_STATUS</th>\n",
       "      <th>DASHBOARD_COMMENT</th>\n",
       "      <th>GENERATED_DATE</th>\n",
       "      <th>REFRESHED_DATE</th>\n",
       "      <th>ACCOMPLISHMENT</th>\n",
       "    </tr>\n",
       "  </thead>\n",
       "  <tbody>\n",
       "    <tr>\n",
       "      <th>0</th>\n",
       "      <td>98956</td>\n",
       "      <td>RTE 761 ??? Replace Bridge 05453 &amp; Appr over O...</td>\n",
       "      <td>0761</td>\n",
       "      <td>Secondary</td>\n",
       "      <td>Bridge Replacement w/ Added Capacity</td>\n",
       "      <td>VDOT</td>\n",
       "      <td>Clarke County</td>\n",
       "      <td>EDINBURG</td>\n",
       "      <td>Staunton</td>\n",
       "      <td>NonMPO:NonMPO</td>\n",
       "      <td>...</td>\n",
       "      <td>G</td>\n",
       "      <td>2024-04-01</td>\n",
       "      <td>NaT</td>\n",
       "      <td>2024-04-30</td>\n",
       "      <td>NaT</td>\n",
       "      <td>G</td>\n",
       "      <td>NaN</td>\n",
       "      <td>2021-02-21 11:00:12</td>\n",
       "      <td>2021-02-21 06:04:15</td>\n",
       "      <td>RAAP CONTRACT</td>\n",
       "    </tr>\n",
       "    <tr>\n",
       "      <th>1</th>\n",
       "      <td>103262</td>\n",
       "      <td>Tyson East Sidewalk South Side of Route 123 -...</td>\n",
       "      <td>0123</td>\n",
       "      <td>Primary</td>\n",
       "      <td>Facilities for Pedestrians and Bicycles</td>\n",
       "      <td>Locally</td>\n",
       "      <td>Fairfax County</td>\n",
       "      <td>FAIRFAX</td>\n",
       "      <td>Northern Virginia</td>\n",
       "      <td>Northern Virginia:Fairfax County</td>\n",
       "      <td>...</td>\n",
       "      <td>G</td>\n",
       "      <td>2019-09-17</td>\n",
       "      <td>2019-01-15</td>\n",
       "      <td>2020-06-22</td>\n",
       "      <td>2019-04-15</td>\n",
       "      <td>G</td>\n",
       "      <td>NaN</td>\n",
       "      <td>2021-02-21 11:00:12</td>\n",
       "      <td>2021-02-21 06:04:15</td>\n",
       "      <td>NON VDOT</td>\n",
       "    </tr>\n",
       "    <tr>\n",
       "      <th>2</th>\n",
       "      <td>106490</td>\n",
       "      <td>POTOMAC HERITAGE TRAIL AT FEATHERSTONE WILDLIF...</td>\n",
       "      <td>0006</td>\n",
       "      <td>Miscellaneous</td>\n",
       "      <td>Facilities for Pedestrians and Bicycles</td>\n",
       "      <td>Locally</td>\n",
       "      <td>Prince William County</td>\n",
       "      <td>MANASSAS</td>\n",
       "      <td>Northern Virginia</td>\n",
       "      <td>Northern Virginia:Prince William County</td>\n",
       "      <td>...</td>\n",
       "      <td>R</td>\n",
       "      <td>2018-11-07</td>\n",
       "      <td>NaT</td>\n",
       "      <td>2019-04-30</td>\n",
       "      <td>NaT</td>\n",
       "      <td>R</td>\n",
       "      <td>Project advertisement is still underway</td>\n",
       "      <td>2021-02-21 11:00:12</td>\n",
       "      <td>2021-02-21 06:04:15</td>\n",
       "      <td>NON VDOT</td>\n",
       "    </tr>\n",
       "  </tbody>\n",
       "</table>\n",
       "<p>3 rows × 95 columns</p>\n",
       "</div>"
      ],
      "text/plain": [
       "      UPC                                        DESCRIPTION ROUTE  \\\n",
       "0   98956  RTE 761 ??? Replace Bridge 05453 & Appr over O...  0761   \n",
       "1  103262   Tyson East Sidewalk South Side of Route 123 -...  0123   \n",
       "2  106490  POTOMAC HERITAGE TRAIL AT FEATHERSTONE WILDLIF...  0006   \n",
       "\n",
       "     ROAD_SYSTEM                            SCOPE_OF_WORK ADMINISTERED_BY  \\\n",
       "0      Secondary     Bridge Replacement w/ Added Capacity            VDOT   \n",
       "1        Primary  Facilities for Pedestrians and Bicycles         Locally   \n",
       "2  Miscellaneous  Facilities for Pedestrians and Bicycles         Locally   \n",
       "\n",
       "             CITY_COUNTY RESIDENCY           DISTRICT  \\\n",
       "0          Clarke County  EDINBURG           Staunton   \n",
       "1         Fairfax County   FAIRFAX  Northern Virginia   \n",
       "2  Prince William County  MANASSAS  Northern Virginia   \n",
       "\n",
       "                                       MPO  ... SOLICIT_BIDS_80_STATUS  \\\n",
       "0                            NonMPO:NonMPO  ...                      G   \n",
       "1         Northern Virginia:Fairfax County  ...                      G   \n",
       "2  Northern Virginia:Prince William County  ...                      R   \n",
       "\n",
       "  START_DLVR_84_PLND_START_DT START_DLVR_84_ACT_START_DT  \\\n",
       "0                  2024-04-01                        NaT   \n",
       "1                  2019-09-17                 2019-01-15   \n",
       "2                  2018-11-07                        NaT   \n",
       "\n",
       "  START_DLVR_84_PLND_END_DT START_DLVR_84_ACT_END_DT START_DELIVERY_84_STATUS  \\\n",
       "0                2024-04-30                      NaT                        G   \n",
       "1                2020-06-22               2019-04-15                        G   \n",
       "2                2019-04-30                      NaT                        R   \n",
       "\n",
       "                         DASHBOARD_COMMENT      GENERATED_DATE  \\\n",
       "0                                      NaN 2021-02-21 11:00:12   \n",
       "1                                      NaN 2021-02-21 11:00:12   \n",
       "2  Project advertisement is still underway 2021-02-21 11:00:12   \n",
       "\n",
       "       REFRESHED_DATE ACCOMPLISHMENT  \n",
       "0 2021-02-21 06:04:15  RAAP CONTRACT  \n",
       "1 2021-02-21 06:04:15       NON VDOT  \n",
       "2 2021-02-21 06:04:15       NON VDOT  \n",
       "\n",
       "[3 rows x 95 columns]"
      ]
     },
     "execution_count": 2,
     "metadata": {},
     "output_type": "execute_result"
    }
   ],
   "source": [
    "dev_df = pd.read_excel('https://www.virginiadot.org/dashboard/documents/Project_Export_Dashboard4.xlsx', \n",
    "                       sheet_name = 'Project_Development (UPC)')\n",
    "\n",
    "#Dashboard Export includes rail and DRPT projects, we only want Local and VDOT\n",
    "dev_df = dev_df[dev_df['ADMINISTERED_BY'].isin(['VDOT', 'Locally'])]\n",
    "\n",
    "dev_df.head(3)"
   ]
  },
  {
   "cell_type": "code",
   "execution_count": 3,
   "metadata": {},
   "outputs": [
    {
     "name": "stdout",
     "output_type": "stream",
     "text": [
      "There are 95 columns\n"
     ]
    }
   ],
   "source": [
    "#The project development data has almost 100 columns, mostly relating to its milestones and statuses\n",
    "print(f'There are {len(dev_df.columns)} columns')"
   ]
  },
  {
   "cell_type": "markdown",
   "metadata": {},
   "source": [
    "Based on subject area knowledge, many fields are not related to project performance, such as the generated date, UPC, project manager and contact information, etc.<br>\n",
    "\n",
    "Milestone-level information is useful, but beyond the scope of this exercise. Description would be useful to break out keywords in the future. <br>\n",
    "\n",
    "We will drop the extra columns, leaving only project information and the START_DELIVERY_84_ACT_END_DT, which is an indicator of whether the project has completed development already or not."
   ]
  },
  {
   "cell_type": "code",
   "execution_count": 4,
   "metadata": {},
   "outputs": [
    {
     "name": "stdout",
     "output_type": "stream",
     "text": [
      "Index(['ROUTE', 'ROAD_SYSTEM', 'SCOPE_OF_WORK', 'ADMINISTERED_BY',\n",
      "       'CITY_COUNTY', 'RESIDENCY', 'DISTRICT', 'MPO', 'PROGRAM_MANAGER',\n",
      "       'SMART_SCALE_INDICATOR', 'SMARTSCALE_COHORT',\n",
      "       'STATE_OF_GOOD_REPAIR_INDICATOR', 'BUDGET', 'ESTIMATE',\n",
      "       'ON_TIME_STATUS'],\n",
      "      dtype='object')\n"
     ]
    }
   ],
   "source": [
    "#Trim off all columns relating to milestones and the export filing date\n",
    "cols = dev_df.columns[31:]\n",
    "dev_trimmed = dev_df.drop(columns = cols)\n",
    "\n",
    "#Manually drop the columns that aren't details about the work being done\n",
    "dev_trimmed = dev_trimmed.drop(columns = ['UPC', 'DASHBOARD_CONTACT', 'DASHBOARD_CONTACT_EMAIL',\n",
    "       'DASHBOARD_CONTACT_PHONE', 'VDOT_PROJECT_MANAGER',\n",
    "       'VDOT_PROJECT_MANAGER_EMAIL', 'VDOT_PROJECT_MANAGER_PHONE',\n",
    "       'NON_VDOT_PROJECT_MANAGER', 'NON_VDOT_PROJECT_MANAGER_EMAIL',\n",
    "       'NON_VDOT_PROJECT_MANAGER_PHONE', 'PROJECT_STATUS', 'ON_TIME_STATUS_REASON', 'ON_BUDGET_STATUS_REASON',\n",
    "        'ON_BUDGET_STATUS', 'DESCRIPTION', \"FISCAL_YEAR\"])\n",
    "\n",
    "print(dev_trimmed.columns)"
   ]
  },
  {
   "cell_type": "code",
   "execution_count": 5,
   "metadata": {},
   "outputs": [
    {
     "data": {
      "text/html": [
       "<div>\n",
       "<style scoped>\n",
       "    .dataframe tbody tr th:only-of-type {\n",
       "        vertical-align: middle;\n",
       "    }\n",
       "\n",
       "    .dataframe tbody tr th {\n",
       "        vertical-align: top;\n",
       "    }\n",
       "\n",
       "    .dataframe thead th {\n",
       "        text-align: right;\n",
       "    }\n",
       "</style>\n",
       "<table border=\"1\" class=\"dataframe\">\n",
       "  <thead>\n",
       "    <tr style=\"text-align: right;\">\n",
       "      <th></th>\n",
       "      <th>ROUTE</th>\n",
       "      <th>ROAD_SYSTEM</th>\n",
       "      <th>SCOPE_OF_WORK</th>\n",
       "      <th>ADMINISTERED_BY</th>\n",
       "      <th>CITY_COUNTY</th>\n",
       "      <th>RESIDENCY</th>\n",
       "      <th>DISTRICT</th>\n",
       "      <th>MPO</th>\n",
       "      <th>PROGRAM_MANAGER</th>\n",
       "      <th>SMART_SCALE_INDICATOR</th>\n",
       "      <th>SMARTSCALE_COHORT</th>\n",
       "      <th>STATE_OF_GOOD_REPAIR_INDICATOR</th>\n",
       "      <th>BUDGET</th>\n",
       "      <th>ESTIMATE</th>\n",
       "      <th>ON_TIME_STATUS</th>\n",
       "      <th>COMPLETED_DEV</th>\n",
       "    </tr>\n",
       "  </thead>\n",
       "  <tbody>\n",
       "    <tr>\n",
       "      <th>0</th>\n",
       "      <td>0761</td>\n",
       "      <td>Secondary</td>\n",
       "      <td>Bridge Replacement w/ Added Capacity</td>\n",
       "      <td>VDOT</td>\n",
       "      <td>Clarke County</td>\n",
       "      <td>EDINBURG</td>\n",
       "      <td>Staunton</td>\n",
       "      <td>NonMPO:NonMPO</td>\n",
       "      <td>Infrastructure Investment Division</td>\n",
       "      <td>0</td>\n",
       "      <td>NaN</td>\n",
       "      <td>0</td>\n",
       "      <td>4355591.0</td>\n",
       "      <td>4355591.0</td>\n",
       "      <td>R</td>\n",
       "      <td>0</td>\n",
       "    </tr>\n",
       "    <tr>\n",
       "      <th>1</th>\n",
       "      <td>0123</td>\n",
       "      <td>Primary</td>\n",
       "      <td>Facilities for Pedestrians and Bicycles</td>\n",
       "      <td>Locally</td>\n",
       "      <td>Fairfax County</td>\n",
       "      <td>FAIRFAX</td>\n",
       "      <td>Northern Virginia</td>\n",
       "      <td>Northern Virginia:Fairfax County</td>\n",
       "      <td>Infrastructure Investment Division</td>\n",
       "      <td>0</td>\n",
       "      <td>NaN</td>\n",
       "      <td>0</td>\n",
       "      <td>3120000.0</td>\n",
       "      <td>2646633.0</td>\n",
       "      <td>G</td>\n",
       "      <td>1</td>\n",
       "    </tr>\n",
       "    <tr>\n",
       "      <th>2</th>\n",
       "      <td>0006</td>\n",
       "      <td>Miscellaneous</td>\n",
       "      <td>Facilities for Pedestrians and Bicycles</td>\n",
       "      <td>Locally</td>\n",
       "      <td>Prince William County</td>\n",
       "      <td>MANASSAS</td>\n",
       "      <td>Northern Virginia</td>\n",
       "      <td>Northern Virginia:Prince William County</td>\n",
       "      <td>Infrastructure Investment Division</td>\n",
       "      <td>0</td>\n",
       "      <td>NaN</td>\n",
       "      <td>0</td>\n",
       "      <td>750000.0</td>\n",
       "      <td>750000.0</td>\n",
       "      <td>R</td>\n",
       "      <td>0</td>\n",
       "    </tr>\n",
       "  </tbody>\n",
       "</table>\n",
       "</div>"
      ],
      "text/plain": [
       "  ROUTE    ROAD_SYSTEM                            SCOPE_OF_WORK  \\\n",
       "0  0761      Secondary     Bridge Replacement w/ Added Capacity   \n",
       "1  0123        Primary  Facilities for Pedestrians and Bicycles   \n",
       "2  0006  Miscellaneous  Facilities for Pedestrians and Bicycles   \n",
       "\n",
       "  ADMINISTERED_BY            CITY_COUNTY RESIDENCY           DISTRICT  \\\n",
       "0            VDOT          Clarke County  EDINBURG           Staunton   \n",
       "1         Locally         Fairfax County   FAIRFAX  Northern Virginia   \n",
       "2         Locally  Prince William County  MANASSAS  Northern Virginia   \n",
       "\n",
       "                                       MPO  \\\n",
       "0                            NonMPO:NonMPO   \n",
       "1         Northern Virginia:Fairfax County   \n",
       "2  Northern Virginia:Prince William County   \n",
       "\n",
       "                      PROGRAM_MANAGER  SMART_SCALE_INDICATOR  \\\n",
       "0  Infrastructure Investment Division                      0   \n",
       "1  Infrastructure Investment Division                      0   \n",
       "2  Infrastructure Investment Division                      0   \n",
       "\n",
       "   SMARTSCALE_COHORT  STATE_OF_GOOD_REPAIR_INDICATOR     BUDGET   ESTIMATE  \\\n",
       "0                NaN                               0  4355591.0  4355591.0   \n",
       "1                NaN                               0  3120000.0  2646633.0   \n",
       "2                NaN                               0   750000.0   750000.0   \n",
       "\n",
       "  ON_TIME_STATUS  COMPLETED_DEV  \n",
       "0              R              0  \n",
       "1              G              1  \n",
       "2              R              0  "
      ]
     },
     "execution_count": 5,
     "metadata": {},
     "output_type": "execute_result"
    }
   ],
   "source": [
    "#Add back in a binary flag whether the project has completed development or not\n",
    "#If the project has a date for its 'start delivery 84 actual end date', then we know it has finished development\n",
    "\n",
    "#Had trouble iterating to check if end date was null, so I filled nulls with a string 'none' then iterated\n",
    "none = dev_df['START_DLVR_84_ACT_END_DT'].fillna('none')\n",
    "\n",
    "#list comprehension to map the new list to a binary and add to the trimmed df\n",
    "dev_trimmed['COMPLETED_DEV'] = [0 if x == 'none'  else 1 for x in none]\n",
    "\n",
    "dev_trimmed.head(3)"
   ]
  },
  {
   "cell_type": "code",
   "execution_count": 6,
   "metadata": {},
   "outputs": [
    {
     "data": {
      "text/plain": [
       "<matplotlib.axes._subplots.AxesSubplot at 0x1fa8f3fff10>"
      ]
     },
     "execution_count": 6,
     "metadata": {},
     "output_type": "execute_result"
    },
    {
     "data": {
      "image/png": "[encoded data removed]",
      "text/plain": [
       "<Figure size 432x288 with 1 Axes>"
      ]
     },
     "metadata": {
      "needs_background": "light"
     },
     "output_type": "display_data"
    }
   ],
   "source": [
    "#How many projects have finished development vs are currently in development?\n",
    "sns.countplot(dev_trimmed['COMPLETED_DEV'])"
   ]
  },
  {
   "cell_type": "code",
   "execution_count": 7,
   "metadata": {},
   "outputs": [
    {
     "data": {
      "text/plain": [
       "<matplotlib.axes._subplots.AxesSubplot at 0x1fa8f764bb0>"
      ]
     },
     "execution_count": 7,
     "metadata": {},
     "output_type": "execute_result"
    },
    {
     "data": {
      "image/png": "[encoded data removed]",
      "text/plain": [
       "<Figure size 432x288 with 1 Axes>"
      ]
     },
     "metadata": {
      "needs_background": "light"
     },
     "output_type": "display_data"
    }
   ],
   "source": [
    "#How many projects are red/yellow/green for on-time?\n",
    "clrs = ['red', 'green', 'yellow']\n",
    "sns.countplot(dev_trimmed['ON_TIME_STATUS'], palette = clrs)"
   ]
  },
  {
   "cell_type": "code",
   "execution_count": 8,
   "metadata": {},
   "outputs": [
    {
     "data": {
      "text/plain": [
       "<matplotlib.axes._subplots.AxesSubplot at 0x1fa8f6d5940>"
      ]
     },
     "execution_count": 8,
     "metadata": {},
     "output_type": "execute_result"
    },
    {
     "data": {
      "image/png": "[encoded data removed]",
      "text/plain": [
       "<Figure size 432x288 with 1 Axes>"
      ]
     },
     "metadata": {
      "needs_background": "light"
     },
     "output_type": "display_data"
    }
   ],
   "source": [
    "#How do completed projects compare to in development projects for on-time?\n",
    "sns.countplot(x='COMPLETED_DEV', hue='ON_TIME_STATUS', palette = clrs, data=dev_trimmed)\n",
    "\n",
    "#Completed projects have a lower proportion of reds to greens than active projects\n",
    "#This could indicate that active red projects tend to recover before award, or that the program is declining as a whole"
   ]
  },
  {
   "cell_type": "markdown",
   "metadata": {},
   "source": [
    "## Preprocessing data for modeling"
   ]
  },
  {
   "cell_type": "code",
   "execution_count": 9,
   "metadata": {},
   "outputs": [
    {
     "data": {
      "text/plain": [
       "ROUTE                              object\n",
       "ROAD_SYSTEM                        object\n",
       "SCOPE_OF_WORK                      object\n",
       "ADMINISTERED_BY                    object\n",
       "CITY_COUNTY                        object\n",
       "RESIDENCY                          object\n",
       "DISTRICT                           object\n",
       "MPO                                object\n",
       "PROGRAM_MANAGER                    object\n",
       "SMART_SCALE_INDICATOR               int64\n",
       "SMARTSCALE_COHORT                 float64\n",
       "STATE_OF_GOOD_REPAIR_INDICATOR      int64\n",
       "BUDGET                            float64\n",
       "ESTIMATE                          float64\n",
       "ON_TIME_STATUS                     object\n",
       "COMPLETED_DEV                       int64\n",
       "dtype: object"
      ]
     },
     "execution_count": 9,
     "metadata": {},
     "output_type": "execute_result"
    }
   ],
   "source": [
    "#look at the current data types of the columns\n",
    "dev_trimmed.dtypes"
   ]
  },
  {
   "cell_type": "code",
   "execution_count": 10,
   "metadata": {},
   "outputs": [],
   "source": [
    "#need to convert the columns to the correct datatypes, indicators are boolean, smart scale cohort is categorical\n",
    "\n",
    "# using dictionary to convert specific columns \n",
    "convert_dict = {\n",
    "    'SMART_SCALE_INDICATOR': bool,\n",
    "    'SMARTSCALE_COHORT': str,\n",
    "    'STATE_OF_GOOD_REPAIR_INDICATOR': bool,\n",
    "    'COMPLETED_DEV': bool\n",
    "               } \n",
    "  \n",
    "dev_trimmed = dev_trimmed.astype(convert_dict) "
   ]
  },
  {
   "cell_type": "code",
   "execution_count": 11,
   "metadata": {},
   "outputs": [
    {
     "data": {
      "text/plain": [
       "ROUTE                              445\n",
       "ROAD_SYSTEM                          7\n",
       "SCOPE_OF_WORK                       26\n",
       "ADMINISTERED_BY                      2\n",
       "CITY_COUNTY                        221\n",
       "RESIDENCY                           31\n",
       "DISTRICT                            10\n",
       "MPO                                 93\n",
       "PROGRAM_MANAGER                      4\n",
       "SMART_SCALE_INDICATOR                2\n",
       "SMARTSCALE_COHORT                    5\n",
       "STATE_OF_GOOD_REPAIR_INDICATOR       2\n",
       "BUDGET                            2137\n",
       "ESTIMATE                          2249\n",
       "ON_TIME_STATUS                       3\n",
       "COMPLETED_DEV                        2\n",
       "dtype: int64"
      ]
     },
     "execution_count": 11,
     "metadata": {},
     "output_type": "execute_result"
    }
   ],
   "source": [
    "#Look at the number of categories we'll have to create for one-hot encoding\n",
    "dev_trimmed.nunique()"
   ]
  },
  {
   "cell_type": "code",
   "execution_count": 12,
   "metadata": {},
   "outputs": [],
   "source": [
    "#Route and City_County have too many values to break out into categories.\n",
    "\n",
    "#scope of work, residency, and MPO are questionable, but we'll leave them in for now.\n",
    "\n",
    "dev_trimmed = dev_trimmed.drop(columns = ['ROUTE', 'CITY_COUNTY'])\n"
   ]
  },
  {
   "cell_type": "markdown",
   "metadata": {},
   "source": [
    "## Split the data for training and testing\n",
    "### Since the population is not equal in green and red projects, we'll split the greens and reds separately and append them back together. This will ensure that both the training and testing data have the same proportion of greens and reds."
   ]
  },
  {
   "cell_type": "code",
   "execution_count": 13,
   "metadata": {},
   "outputs": [
    {
     "name": "stderr",
     "output_type": "stream",
     "text": [
      "<ipython-input-13-1d9e6c8c70ac>:7: SettingWithCopyWarning: \n",
      "A value is trying to be set on a copy of a slice from a DataFrame.\n",
      "Try using .loc[row_indexer,col_indexer] = value instead\n",
      "\n",
      "See the caveats in the documentation: https://pandas.pydata.org/pandas-docs/stable/user_guide/indexing.html#returning-a-view-versus-a-copy\n",
      "  completed_df['ON_TIME_STATUS'] = completed_df['ON_TIME_STATUS'].map({'R': 1, 'G': 0}).astype(int)\n"
     ]
    }
   ],
   "source": [
    "#only looking at completed projects to train\n",
    "completed_df = dev_trimmed[dev_trimmed['COMPLETED_DEV']==1]\n",
    "\n",
    "#Map the on-time status to a binary response variable\n",
    "#We want to identify reds, so red = 1 and green = 0\n",
    "#Completed projects cannot be yellow\n",
    "completed_df['ON_TIME_STATUS'] = completed_df['ON_TIME_STATUS'].map({'R': 1, 'G': 0}).astype(int)\n",
    "\n",
    "#We want training and testing samples to have an equal occurance or red and green OT, so split them separately and combine\n",
    "completed_r = completed_df[completed_df['ON_TIME_STATUS'] == 1].drop(columns='COMPLETED_DEV')\n",
    "completed_g = completed_df[completed_df['ON_TIME_STATUS'] == 0].drop(columns='COMPLETED_DEV')\n",
    "\n",
    "#Split the table into the project data (X) and the response we want to predict (y)\n",
    "g_X = completed_g.drop(columns='ON_TIME_STATUS')\n",
    "g_y = completed_g['ON_TIME_STATUS']\n",
    "\n",
    "r_X = completed_r.drop(columns='ON_TIME_STATUS')\n",
    "r_y = completed_r['ON_TIME_STATUS']\n",
    "\n",
    "#Set up full-sample tables in case we want to tune model parameters later\n",
    "X = completed_df.drop(columns=['ON_TIME_STATUS', 'COMPLETED_DEV'] )\n",
    "y = completed_df['ON_TIME_STATUS']\n",
    "\n",
    "#dependency to split the data\n",
    "from sklearn.model_selection import train_test_split\n",
    "\n",
    "#Split the data into 66.6% for training, 33.3% for validation\n",
    "X_train_g, X_test_g, y_train_g, y_test_g = train_test_split(g_X, g_y, test_size=0.33, random_state=42)\n",
    "X_train_r, X_test_r, y_train_r, y_test_r = train_test_split(r_X, r_y, test_size=0.33, random_state=42)\n",
    "\n",
    "\n",
    "#recombine the red and green splits to get evenly distributed greens and reds in the training and testing data\n",
    "X_train = X_train_r.append(X_train_g)\n",
    "X_test = X_test_r.append(X_test_g)\n",
    "y_train = y_train_r.append(y_train_g)\n",
    "y_test = y_test_r.append(y_test_g)"
   ]
  },
  {
   "cell_type": "markdown",
   "metadata": {},
   "source": [
    "# Scikit-Learn Machine Learning Pipeline"
   ]
  },
  {
   "cell_type": "code",
   "execution_count": 14,
   "metadata": {},
   "outputs": [],
   "source": [
    "#Set up ML pipeline to handle preprocessing for the model\n",
    "\n",
    "#Import sklearn dependencies\n",
    "from sklearn.pipeline import Pipeline\n",
    "from sklearn.impute import SimpleImputer\n",
    "from sklearn.preprocessing import StandardScaler, OneHotEncoder\n",
    "from sklearn import set_config\n",
    "set_config(display='diagram')\n",
    "\n",
    "#set up a transformer to handle numeric columns (budget, estimate)\n",
    "numeric_col_transformer = Pipeline(steps=[\n",
    "    ('imputer', SimpleImputer(strategy='median')), #Impute missing values by filling with the median value\n",
    "    ('scaler', StandardScaler())]) #Scale the numeric values before modeling - defaults based on standard dev from the mean\n",
    "\n",
    "#set up a second transformer to handle categorical columns (all others - administered by, district, etc)\n",
    "categorical_col_transformer = Pipeline(steps=[\n",
    "    ('imputer', SimpleImputer(strategy='constant', fill_value='missing')), #Impute missing values, fill with the word 'missing'\n",
    "    ('onehot', OneHotEncoder(handle_unknown='ignore'))]) #Use one-hot encoding to break out categorical variables\n",
    "\n",
    "\n"
   ]
  },
  {
   "cell_type": "code",
   "execution_count": 15,
   "metadata": {},
   "outputs": [],
   "source": [
    "#Declare which columns are considered numeric\n",
    "numeric_features = X_train.select_dtypes(include=['int64', 'float64']).columns\n",
    "\n",
    "#Declare which columns are considered categorical\n",
    "categorical_features = X_train.select_dtypes(include=['object']).columns\n",
    "\n",
    "#Dependency to create the column preprocessor\n",
    "from sklearn.compose import ColumnTransformer\n",
    "\n",
    "#Initiate the preprocessor using the two transformers\n",
    "preprocessor = ColumnTransformer(\n",
    "    transformers=[\n",
    "        ('num', numeric_col_transformer, numeric_features), #Numerical columns\n",
    "        ('cat', categorical_col_transformer, categorical_features)]) #Categorical columns"
   ]
  },
  {
   "cell_type": "code",
   "execution_count": 16,
   "metadata": {},
   "outputs": [
    {
     "data": {
      "text/html": [
       "<style>div.sk-top-container {color: black;background-color: white;}div.sk-toggleable {background-color: white;}label.sk-toggleable__label {cursor: pointer;display: block;width: 100%;margin-bottom: 0;padding: 0.2em 0.3em;box-sizing: border-box;text-align: center;}div.sk-toggleable__content {max-height: 0;max-width: 0;overflow: hidden;text-align: left;background-color: #f0f8ff;}div.sk-toggleable__content pre {margin: 0.2em;color: black;border-radius: 0.25em;background-color: #f0f8ff;}input.sk-toggleable__control:checked~div.sk-toggleable__content {max-height: 200px;max-width: 100%;overflow: auto;}div.sk-estimator input.sk-toggleable__control:checked~label.sk-toggleable__label {background-color: #d4ebff;}div.sk-label input.sk-toggleable__control:checked~label.sk-toggleable__label {background-color: #d4ebff;}input.sk-hidden--visually {border: 0;clip: rect(1px 1px 1px 1px);clip: rect(1px, 1px, 1px, 1px);height: 1px;margin: -1px;overflow: hidden;padding: 0;position: absolute;width: 1px;}div.sk-estimator {font-family: monospace;background-color: #f0f8ff;margin: 0.25em 0.25em;border: 1px dotted black;border-radius: 0.25em;box-sizing: border-box;}div.sk-estimator:hover {background-color: #d4ebff;}div.sk-parallel-item::after {content: \"\";width: 100%;border-bottom: 1px solid gray;flex-grow: 1;}div.sk-label:hover label.sk-toggleable__label {background-color: #d4ebff;}div.sk-serial::before {content: \"\";position: absolute;border-left: 1px solid gray;box-sizing: border-box;top: 2em;bottom: 0;left: 50%;}div.sk-serial {display: flex;flex-direction: column;align-items: center;background-color: white;}div.sk-item {z-index: 1;}div.sk-parallel {display: flex;align-items: stretch;justify-content: center;background-color: white;}div.sk-parallel-item {display: flex;flex-direction: column;position: relative;background-color: white;}div.sk-parallel-item:first-child::after {align-self: flex-end;width: 50%;}div.sk-parallel-item:last-child::after {align-self: flex-start;width: 50%;}div.sk-parallel-item:only-child::after {width: 0;}div.sk-dashed-wrapped {border: 1px dashed gray;margin: 0.2em;box-sizing: border-box;padding-bottom: 0.1em;background-color: white;position: relative;}div.sk-label label {font-family: monospace;font-weight: bold;background-color: white;display: inline-block;line-height: 1.2em;}div.sk-label-container {position: relative;z-index: 2;text-align: center;}div.sk-container {display: inline-block;position: relative;}</style><div class=\"sk-top-container\"><div class=\"sk-container\"><div class=\"sk-item sk-dashed-wrapped\"><div class=\"sk-label-container\"><div class=\"sk-label sk-toggleable\"><input class=\"sk-toggleable__control sk-hidden--visually\" id=\"9e4065ad-0ec0-4ba2-ad0d-a1b1a40ade6e\" type=\"checkbox\" ><label class=\"sk-toggleable__label\" for=\"9e4065ad-0ec0-4ba2-ad0d-a1b1a40ade6e\">Pipeline</label><div class=\"sk-toggleable__content\"><pre>Pipeline(steps=[('preprocessor',\n",
       "                 ColumnTransformer(transformers=[('num',\n",
       "                                                  Pipeline(steps=[('imputer',\n",
       "                                                                   SimpleImputer(strategy='median')),\n",
       "                                                                  ('scaler',\n",
       "                                                                   StandardScaler())]),\n",
       "                                                  Index(['BUDGET', 'ESTIMATE'], dtype='object')),\n",
       "                                                 ('cat',\n",
       "                                                  Pipeline(steps=[('imputer',\n",
       "                                                                   SimpleImputer(fill_value='missing',\n",
       "                                                                                 strategy='constant')),\n",
       "                                                                  ('onehot',\n",
       "                                                                   OneHotEncoder(handle_unknown='ignore'))]),\n",
       "                                                  Index(['ROAD_SYSTEM', 'SCOPE_OF_WORK', 'ADMINISTERED_BY', 'RESIDENCY',\n",
       "       'DISTRICT', 'MPO', 'PROGRAM_MANAGER', 'SMARTSCALE_COHORT'],\n",
       "      dtype='object'))])),\n",
       "                ('classifier', RandomForestClassifier())])</pre></div></div></div><div class=\"sk-serial\"><div class=\"sk-item sk-dashed-wrapped\"><div class=\"sk-label-container\"><div class=\"sk-label sk-toggleable\"><input class=\"sk-toggleable__control sk-hidden--visually\" id=\"583e0491-d454-4e69-bfab-911aef4832fd\" type=\"checkbox\" ><label class=\"sk-toggleable__label\" for=\"583e0491-d454-4e69-bfab-911aef4832fd\">preprocessor: ColumnTransformer</label><div class=\"sk-toggleable__content\"><pre>ColumnTransformer(transformers=[('num',\n",
       "                                 Pipeline(steps=[('imputer',\n",
       "                                                  SimpleImputer(strategy='median')),\n",
       "                                                 ('scaler', StandardScaler())]),\n",
       "                                 Index(['BUDGET', 'ESTIMATE'], dtype='object')),\n",
       "                                ('cat',\n",
       "                                 Pipeline(steps=[('imputer',\n",
       "                                                  SimpleImputer(fill_value='missing',\n",
       "                                                                strategy='constant')),\n",
       "                                                 ('onehot',\n",
       "                                                  OneHotEncoder(handle_unknown='ignore'))]),\n",
       "                                 Index(['ROAD_SYSTEM', 'SCOPE_OF_WORK', 'ADMINISTERED_BY', 'RESIDENCY',\n",
       "       'DISTRICT', 'MPO', 'PROGRAM_MANAGER', 'SMARTSCALE_COHORT'],\n",
       "      dtype='object'))])</pre></div></div></div><div class=\"sk-parallel\"><div class=\"sk-parallel-item\"><div class=\"sk-item\"><div class=\"sk-label-container\"><div class=\"sk-label sk-toggleable\"><input class=\"sk-toggleable__control sk-hidden--visually\" id=\"dd902a12-98e2-45a2-b170-e6a2c277b7d6\" type=\"checkbox\" ><label class=\"sk-toggleable__label\" for=\"dd902a12-98e2-45a2-b170-e6a2c277b7d6\">num</label><div class=\"sk-toggleable__content\"><pre>Index(['BUDGET', 'ESTIMATE'], dtype='object')</pre></div></div></div><div class=\"sk-serial\"><div class=\"sk-item\"><div class=\"sk-serial\"><div class=\"sk-item\"><div class=\"sk-estimator sk-toggleable\"><input class=\"sk-toggleable__control sk-hidden--visually\" id=\"dbab4ac7-d008-4cb0-a715-402e26ad62ac\" type=\"checkbox\" ><label class=\"sk-toggleable__label\" for=\"dbab4ac7-d008-4cb0-a715-402e26ad62ac\">SimpleImputer</label><div class=\"sk-toggleable__content\"><pre>SimpleImputer(strategy='median')</pre></div></div></div><div class=\"sk-item\"><div class=\"sk-estimator sk-toggleable\"><input class=\"sk-toggleable__control sk-hidden--visually\" id=\"c75643c9-eca3-486f-b47a-e8b6db06bb00\" type=\"checkbox\" ><label class=\"sk-toggleable__label\" for=\"c75643c9-eca3-486f-b47a-e8b6db06bb00\">StandardScaler</label><div class=\"sk-toggleable__content\"><pre>StandardScaler()</pre></div></div></div></div></div></div></div></div><div class=\"sk-parallel-item\"><div class=\"sk-item\"><div class=\"sk-label-container\"><div class=\"sk-label sk-toggleable\"><input class=\"sk-toggleable__control sk-hidden--visually\" id=\"8d95d33a-5719-4324-9c92-95583d6fd2a5\" type=\"checkbox\" ><label class=\"sk-toggleable__label\" for=\"8d95d33a-5719-4324-9c92-95583d6fd2a5\">cat</label><div class=\"sk-toggleable__content\"><pre>Index(['ROAD_SYSTEM', 'SCOPE_OF_WORK', 'ADMINISTERED_BY', 'RESIDENCY',\n",
       "       'DISTRICT', 'MPO', 'PROGRAM_MANAGER', 'SMARTSCALE_COHORT'],\n",
       "      dtype='object')</pre></div></div></div><div class=\"sk-serial\"><div class=\"sk-item\"><div class=\"sk-serial\"><div class=\"sk-item\"><div class=\"sk-estimator sk-toggleable\"><input class=\"sk-toggleable__control sk-hidden--visually\" id=\"ba43f76b-6a20-4f4c-a108-89f6c5dcf37a\" type=\"checkbox\" ><label class=\"sk-toggleable__label\" for=\"ba43f76b-6a20-4f4c-a108-89f6c5dcf37a\">SimpleImputer</label><div class=\"sk-toggleable__content\"><pre>SimpleImputer(fill_value='missing', strategy='constant')</pre></div></div></div><div class=\"sk-item\"><div class=\"sk-estimator sk-toggleable\"><input class=\"sk-toggleable__control sk-hidden--visually\" id=\"6bcc8b72-c51e-4f5c-b92a-e029624a7741\" type=\"checkbox\" ><label class=\"sk-toggleable__label\" for=\"6bcc8b72-c51e-4f5c-b92a-e029624a7741\">OneHotEncoder</label><div class=\"sk-toggleable__content\"><pre>OneHotEncoder(handle_unknown='ignore')</pre></div></div></div></div></div></div></div></div></div></div><div class=\"sk-item\"><div class=\"sk-estimator sk-toggleable\"><input class=\"sk-toggleable__control sk-hidden--visually\" id=\"95368f00-1cec-43bc-8e30-4f7d358dd5cc\" type=\"checkbox\" ><label class=\"sk-toggleable__label\" for=\"95368f00-1cec-43bc-8e30-4f7d358dd5cc\">RandomForestClassifier</label><div class=\"sk-toggleable__content\"><pre>RandomForestClassifier()</pre></div></div></div></div></div></div></div>"
      ],
      "text/plain": [
       "Pipeline(steps=[('preprocessor',\n",
       "                 ColumnTransformer(transformers=[('num',\n",
       "                                                  Pipeline(steps=[('imputer',\n",
       "                                                                   SimpleImputer(strategy='median')),\n",
       "                                                                  ('scaler',\n",
       "                                                                   StandardScaler())]),\n",
       "                                                  Index(['BUDGET', 'ESTIMATE'], dtype='object')),\n",
       "                                                 ('cat',\n",
       "                                                  Pipeline(steps=[('imputer',\n",
       "                                                                   SimpleImputer(fill_value='missing',\n",
       "                                                                                 strategy='constant')),\n",
       "                                                                  ('onehot',\n",
       "                                                                   OneHotEncoder(handle_unknown='ignore'))]),\n",
       "                                                  Index(['ROAD_SYSTEM', 'SCOPE_OF_WORK', 'ADMINISTERED_BY', 'RESIDENCY',\n",
       "       'DISTRICT', 'MPO', 'PROGRAM_MANAGER', 'SMARTSCALE_COHORT'],\n",
       "      dtype='object'))])),\n",
       "                ('classifier', RandomForestClassifier())])"
      ]
     },
     "execution_count": 16,
     "metadata": {},
     "output_type": "execute_result"
    }
   ],
   "source": [
    "#Test the pipeline with a random forest model\n",
    "from sklearn.ensemble import RandomForestClassifier\n",
    "\n",
    "#Initiate the model pipeline using the preprocessor we created and a random forest classifier\n",
    "rf = Pipeline(steps=[('preprocessor', preprocessor),\n",
    "                      ('classifier', RandomForestClassifier())])\n",
    "\n",
    "#Fit the model to the training data\n",
    "rf.fit(X_train, y_train)"
   ]
  },
  {
   "cell_type": "markdown",
   "metadata": {},
   "source": [
    "## Fitting various classification models"
   ]
  },
  {
   "cell_type": "code",
   "execution_count": 17,
   "metadata": {},
   "outputs": [
    {
     "name": "stdout",
     "output_type": "stream",
     "text": [
      "SVC()\n",
      "model accuracy score: 0.8414985590778098\n",
      "LogisticRegression()\n",
      "model accuracy score: 0.8472622478386167\n",
      "KNeighborsClassifier(n_neighbors=10)\n",
      "model accuracy score: 0.8357348703170029\n",
      "DecisionTreeClassifier()\n",
      "model accuracy score: 0.792507204610951\n",
      "RandomForestClassifier()\n",
      "model accuracy score: 0.8328530259365994\n",
      "GradientBoostingClassifier()\n",
      "model accuracy score: 0.829971181556196\n"
     ]
    }
   ],
   "source": [
    "#Throw a bunch of models at the problem and see what sticks\n",
    "\n",
    "from sklearn.metrics import accuracy_score, log_loss\n",
    "from sklearn.neighbors import KNeighborsClassifier\n",
    "from sklearn.tree import DecisionTreeClassifier\n",
    "from sklearn.ensemble import RandomForestClassifier, AdaBoostClassifier, GradientBoostingClassifier\n",
    "from sklearn.linear_model import LogisticRegression\n",
    "from sklearn.svm import SVC\n",
    "\n",
    "#Create a list of models to fit\n",
    "classifiers = [\n",
    "    SVC(),\n",
    "    LogisticRegression(),\n",
    "    KNeighborsClassifier(10),\n",
    "    DecisionTreeClassifier(),\n",
    "    RandomForestClassifier(),\n",
    "    GradientBoostingClassifier()\n",
    "    ]\n",
    "\n",
    "#Pass the list of models and fit each on the training data, then validate the accuracy on the test data\n",
    "for classifier in classifiers:\n",
    "    pipe = Pipeline(steps=[('preprocessor', preprocessor),\n",
    "                      ('classifier', classifier)])\n",
    "    pipe.fit(X_train, y_train)   \n",
    "    print(classifier)\n",
    "    print(f'model accuracy score: {pipe.score(X_test, y_test)}')"
   ]
  },
  {
   "cell_type": "code",
   "execution_count": 18,
   "metadata": {},
   "outputs": [
    {
     "name": "stdout",
     "output_type": "stream",
     "text": [
      "0    883\n",
      "1    165\n",
      "Name: ON_TIME_STATUS, dtype: int64\n",
      "% green: 0.8425572519083969\n"
     ]
    }
   ],
   "source": [
    "#the accuracy scores look good, but remember that most projects finished green\n",
    "g_r_counts = completed_df['ON_TIME_STATUS'].value_counts()\n",
    "print(g_r_counts)\n",
    "print(f'% green: {g_r_counts[0] / (g_r_counts[0]+g_r_counts[1])}')"
   ]
  },
  {
   "cell_type": "markdown",
   "metadata": {},
   "source": [
    "## If we classify every project as green, we'd still get 84% accuracy! Try balancing the weights of the classes (green and red)"
   ]
  },
  {
   "cell_type": "code",
   "execution_count": 19,
   "metadata": {},
   "outputs": [
    {
     "name": "stdout",
     "output_type": "stream",
     "text": [
      "model accuracy score: 0.8472622478386167\n"
     ]
    },
    {
     "data": {
      "image/png": "[encoded data removed]",
      "text/plain": [
       "<Figure size 432x288 with 2 Axes>"
      ]
     },
     "metadata": {
      "needs_background": "light"
     },
     "output_type": "display_data"
    },
    {
     "data": {
      "image/png": "[encoded data removed]",
      "text/plain": [
       "<Figure size 432x288 with 1 Axes>"
      ]
     },
     "metadata": {
      "needs_background": "light"
     },
     "output_type": "display_data"
    }
   ],
   "source": [
    "#unweighted logistic regression\n",
    "logistic = Pipeline(steps=[('preprocessor', preprocessor),\n",
    "                      ('classifier', LogisticRegression())])\n",
    "logistic.fit(X_train, y_train)\n",
    "print(f'model accuracy score: {logistic.score(X_test, y_test)}')\n",
    "\n",
    "from sklearn.metrics import plot_confusion_matrix\n",
    "import matplotlib.pyplot as plt \n",
    "\n",
    "plot_confusion_matrix(logistic, X_test, y_test)\n",
    "plt.show()\n",
    "\n",
    "from sklearn.metrics import plot_roc_curve\n",
    "\n",
    "\n",
    "plot_roc_curve(logistic, X_test, y_test)  \n",
    "plt.show()"
   ]
  },
  {
   "cell_type": "markdown",
   "metadata": {},
   "source": [
    "## Even though overall accuracy is 84%, we only correctly identify 5 of the 55 red projects"
   ]
  },
  {
   "cell_type": "code",
   "execution_count": 20,
   "metadata": {},
   "outputs": [
    {
     "name": "stdout",
     "output_type": "stream",
     "text": [
      "model accuracy score: 0.7262247838616714\n"
     ]
    },
    {
     "data": {
      "image/png": "[encoded data removed]",
      "text/plain": [
       "<Figure size 432x288 with 2 Axes>"
      ]
     },
     "metadata": {
      "needs_background": "light"
     },
     "output_type": "display_data"
    },
    {
     "data": {
      "image/png": "[encoded data removed]",
      "text/plain": [
       "<Figure size 432x288 with 1 Axes>"
      ]
     },
     "metadata": {
      "needs_background": "light"
     },
     "output_type": "display_data"
    }
   ],
   "source": [
    "#weighted logistic regression\n",
    "logistic = Pipeline(steps=[('preprocessor', preprocessor),\n",
    "                      ('classifier', LogisticRegression(class_weight = 'balanced'))])\n",
    "logistic.fit(X_train, y_train)\n",
    "print(f'model accuracy score: {logistic.score(X_test, y_test)}')\n",
    "\n",
    "plot_confusion_matrix(logistic, X_test, y_test)\n",
    "\n",
    "plt.show()\n",
    "\n",
    "plot_roc_curve(logistic, X_test, y_test)  \n",
    "plt.show()"
   ]
  },
  {
   "cell_type": "markdown",
   "metadata": {},
   "source": [
    "## Weighting the responses hurts overall accuracy, but improves the identification of reds to 30 out of 55. Still not great."
   ]
  },
  {
   "cell_type": "code",
   "execution_count": 21,
   "metadata": {},
   "outputs": [
    {
     "name": "stdout",
     "output_type": "stream",
     "text": [
      "model accuracy score: 0.8414985590778098\n"
     ]
    },
    {
     "data": {
      "image/png": "[encoded data removed]",
      "text/plain": [
       "<Figure size 432x288 with 2 Axes>"
      ]
     },
     "metadata": {
      "needs_background": "light"
     },
     "output_type": "display_data"
    },
    {
     "data": {
      "image/png": "[encoded data removed]",
      "text/plain": [
       "<Figure size 432x288 with 1 Axes>"
      ]
     },
     "metadata": {
      "needs_background": "light"
     },
     "output_type": "display_data"
    }
   ],
   "source": [
    "#Scikit's SVM models also allow for weighting\n",
    "\n",
    "#unweighted Support Vector Machine\n",
    "svm = Pipeline(steps=[('preprocessor', preprocessor),\n",
    "                      ('classifier', SVC())])\n",
    "svm.fit(X_train, y_train)\n",
    "print(f'model accuracy score: {svm.score(X_test, y_test)}')\n",
    "\n",
    "#This model is even worse for overestimating greens - classifies everything as green!\n",
    "plot_confusion_matrix(svm, X_test, y_test)\n",
    "plt.show()\n",
    "plot_roc_curve(svm, X_test, y_test)  \n",
    "plt.show()"
   ]
  },
  {
   "cell_type": "code",
   "execution_count": 22,
   "metadata": {},
   "outputs": [
    {
     "name": "stdout",
     "output_type": "stream",
     "text": [
      "model accuracy score: 0.7809798270893372\n"
     ]
    },
    {
     "data": {
      "image/png": "[encoded data removed]",
      "text/plain": [
       "<Figure size 432x288 with 2 Axes>"
      ]
     },
     "metadata": {
      "needs_background": "light"
     },
     "output_type": "display_data"
    },
    {
     "data": {
      "image/png": "[encoded data removed]",
      "text/plain": [
       "<Figure size 432x288 with 1 Axes>"
      ]
     },
     "metadata": {
      "needs_background": "light"
     },
     "output_type": "display_data"
    }
   ],
   "source": [
    "#weighted Support Vector Machine\n",
    "svm = Pipeline(steps=[('preprocessor', preprocessor),\n",
    "                      ('classifier', SVC(class_weight='balanced'))])\n",
    "svm.fit(X_train, y_train)\n",
    "print(f'model accuracy score: {svm.score(X_test, y_test)}')\n",
    "\n",
    "#Similar results to the weighted logistic regression, slightly better - not as many false negatives\n",
    "plot_confusion_matrix(svm, X_test, y_test)\n",
    "plt.show()\n",
    "plot_roc_curve(svm, X_test, y_test)  \n",
    "plt.show()"
   ]
  },
  {
   "cell_type": "markdown",
   "metadata": {},
   "source": [
    "## One option to improve performance is to oversample the underrepresented class (reds)"
   ]
  },
  {
   "cell_type": "code",
   "execution_count": 23,
   "metadata": {},
   "outputs": [
    {
     "name": "stdout",
     "output_type": "stream",
     "text": [
      "model accuracy score: 0.8011527377521613\n"
     ]
    },
    {
     "data": {
      "image/png": "[encoded data removed]",
      "text/plain": [
       "<Figure size 432x288 with 2 Axes>"
      ]
     },
     "metadata": {
      "needs_background": "light"
     },
     "output_type": "display_data"
    },
    {
     "data": {
      "image/png": "[encoded data removed]",
      "text/plain": [
       "<Figure size 432x288 with 1 Axes>"
      ]
     },
     "metadata": {
      "needs_background": "light"
     },
     "output_type": "display_data"
    }
   ],
   "source": [
    "#Dependency to oversample the red projects \n",
    "\n",
    "from imblearn.over_sampling import RandomOverSampler\n",
    "ros = RandomOverSampler()\n",
    "\n",
    "#This will oversample the reds so that there are an equal number of reds and greens in the training data\n",
    "X_resampled, y_resampled = ros.fit_resample(X_train, y_train)\n",
    "\n",
    "\n",
    "#Test results on unweighted svm (weighting would not affect this since the classes are 50/50 now)\n",
    "svm = Pipeline(steps=[('preprocessor', preprocessor),\n",
    "                      ('classifier', SVC())])\n",
    "\n",
    "svm.fit(X_resampled, y_resampled)\n",
    "print(f'model accuracy score: {svm.score(X_test, y_test)}')\n",
    "\n",
    "#Similar results to the weighted models\n",
    "plot_confusion_matrix(svm, X_test, y_test)\n",
    "plt.show\n",
    "plot_roc_curve(svm, X_test, y_test)  \n",
    "plt.show()"
   ]
  },
  {
   "cell_type": "code",
   "execution_count": 24,
   "metadata": {},
   "outputs": [
    {
     "name": "stdout",
     "output_type": "stream",
     "text": [
      "model accuracy score: 0.7377521613832853\n"
     ]
    },
    {
     "data": {
      "image/png": "[encoded data removed]",
      "text/plain": [
       "<Figure size 432x288 with 2 Axes>"
      ]
     },
     "metadata": {
      "needs_background": "light"
     },
     "output_type": "display_data"
    },
    {
     "data": {
      "image/png": "[encoded data removed]",
      "text/plain": [
       "<Figure size 432x288 with 1 Axes>"
      ]
     },
     "metadata": {
      "needs_background": "light"
     },
     "output_type": "display_data"
    }
   ],
   "source": [
    "#Try the logistic regression again with oversampling\n",
    "logistic = Pipeline(steps=[('preprocessor', preprocessor),\n",
    "                      ('classifier', LogisticRegression())])\n",
    "\n",
    "logistic.fit(X_resampled, y_resampled)\n",
    "print(f'model accuracy score: {logistic.score(X_test, y_test)}')\n",
    "\n",
    "plot_confusion_matrix(logistic, X_test, y_test)\n",
    "plt.show()\n",
    "plot_roc_curve(logistic, X_test, y_test)  \n",
    "plt.show()"
   ]
  },
  {
   "cell_type": "code",
   "execution_count": 25,
   "metadata": {},
   "outputs": [
    {
     "name": "stdout",
     "output_type": "stream",
     "text": [
      "SVC()\n",
      "model score: 0.8011527377521613\n"
     ]
    },
    {
     "data": {
      "image/png": "[encoded data removed]",
      "text/plain": [
       "<Figure size 432x288 with 2 Axes>"
      ]
     },
     "metadata": {
      "needs_background": "light"
     },
     "output_type": "display_data"
    },
    {
     "name": "stdout",
     "output_type": "stream",
     "text": [
      "LogisticRegression()\n",
      "model score: 0.7377521613832853\n"
     ]
    },
    {
     "data": {
      "image/png": "[encoded data removed]",
      "text/plain": [
       "<Figure size 432x288 with 2 Axes>"
      ]
     },
     "metadata": {
      "needs_background": "light"
     },
     "output_type": "display_data"
    },
    {
     "name": "stdout",
     "output_type": "stream",
     "text": [
      "KNeighborsClassifier(n_neighbors=10)\n",
      "model score: 0.7492795389048992\n"
     ]
    },
    {
     "data": {
      "image/png": "[encoded data removed]",
      "text/plain": [
       "<Figure size 432x288 with 2 Axes>"
      ]
     },
     "metadata": {
      "needs_background": "light"
     },
     "output_type": "display_data"
    },
    {
     "name": "stdout",
     "output_type": "stream",
     "text": [
      "DecisionTreeClassifier()\n",
      "model score: 0.7521613832853026\n"
     ]
    },
    {
     "data": {
      "image/png": "[encoded data removed]",
      "text/plain": [
       "<Figure size 432x288 with 2 Axes>"
      ]
     },
     "metadata": {
      "needs_background": "light"
     },
     "output_type": "display_data"
    },
    {
     "name": "stdout",
     "output_type": "stream",
     "text": [
      "RandomForestClassifier()\n",
      "model score: 0.8126801152737753\n"
     ]
    },
    {
     "data": {
      "image/png": "[encoded data removed]",
      "text/plain": [
       "<Figure size 432x288 with 2 Axes>"
      ]
     },
     "metadata": {
      "needs_background": "light"
     },
     "output_type": "display_data"
    },
    {
     "name": "stdout",
     "output_type": "stream",
     "text": [
      "GradientBoostingClassifier()\n",
      "model score: 0.7521613832853026\n"
     ]
    },
    {
     "data": {
      "image/png": "[encoded data removed]",
      "text/plain": [
       "<Figure size 432x288 with 2 Axes>"
      ]
     },
     "metadata": {
      "needs_background": "light"
     },
     "output_type": "display_data"
    }
   ],
   "source": [
    "#Try the gauntlet again with oversampling\n",
    "\n",
    "classifiers = [\n",
    "    SVC(),\n",
    "    LogisticRegression(),\n",
    "    KNeighborsClassifier(10),\n",
    "    DecisionTreeClassifier(),\n",
    "    RandomForestClassifier(),\n",
    "    GradientBoostingClassifier()\n",
    "    ]\n",
    "\n",
    "for classifier in classifiers:\n",
    "    pipe = Pipeline(steps=[('preprocessor', preprocessor),\n",
    "                      ('classifier', classifier)])\n",
    "    pipe.fit(X_resampled, y_resampled)   \n",
    "    print(classifier)\n",
    "    print(f'model score: {pipe.score(X_test, y_test)}')\n",
    "    plot_confusion_matrix(pipe, X_test, y_test)\n",
    "    plt.show()"
   ]
  },
  {
   "cell_type": "markdown",
   "metadata": {},
   "source": [
    "## Choosing a model\n",
    "\n",
    "### The best model given the current population seems to be the SVM fitted on the non-resampled training data, drawing decision threshold based on weight of classes\n",
    "\n",
    "### Seems to be the best mix of accurately identifying the reds (around 50% of reds identified) and misclassifying fewer greens as red (around 15-20% of greens misidentified as red)\n",
    "\n",
    "### In practice, we want to identify the projects that are likely to go red so that we can devote resources to them, but we don't want to misclassify too many green projects into the mix, as they would take resources away from the actual high-risk projects\n"
   ]
  },
  {
   "cell_type": "code",
   "execution_count": 26,
   "metadata": {},
   "outputs": [
    {
     "name": "stdout",
     "output_type": "stream",
     "text": [
      "model accuracy score: 0.7809798270893372\n"
     ]
    },
    {
     "data": {
      "image/png": "[encoded data removed]",
      "text/plain": [
       "<Figure size 432x288 with 2 Axes>"
      ]
     },
     "metadata": {
      "needs_background": "light"
     },
     "output_type": "display_data"
    },
    {
     "data": {
      "image/png": "[encoded data removed]",
      "text/plain": [
       "<Figure size 432x288 with 1 Axes>"
      ]
     },
     "metadata": {
      "needs_background": "light"
     },
     "output_type": "display_data"
    }
   ],
   "source": [
    "#rebuilding here for clarity\n",
    "svm = Pipeline(steps=[('preprocessor', preprocessor),\n",
    "                      ('classifier', SVC(probability = True, class_weight = 'balanced'))])\n",
    "svm.fit(X_train, y_train)\n",
    "print(f'model accuracy score: {svm.score(X_test, y_test)}')\n",
    "plot_confusion_matrix(svm, X_test, y_test)\n",
    "plt.show()\n",
    "plot_roc_curve(svm, X_test, y_test)  \n",
    "plt.show()"
   ]
  },
  {
   "cell_type": "markdown",
   "metadata": {},
   "source": [
    "## Applying the model\n",
    "\n",
    "### We can use the selected model to predict the final on-time status of active projects. We can view the prediction as a way to identify projects that are a higher risk of finishing development late due to some or a combination of their characteristics such as the district, the type of work, or who the project is administered by.\n",
    "\n",
    "### This information could be used by project managers trying to balance where they devote the most time in their portfolio, or to make informed decisions as to which project manager should be overseeing the project (if applied to unassigned projects).\n",
    "\n",
    "### This is by no means intended to be used as a sole decision making factor, but one piece of information to consider among all others."
   ]
  },
  {
   "cell_type": "code",
   "execution_count": 27,
   "metadata": {},
   "outputs": [
    {
     "data": {
      "text/html": [
       "<div>\n",
       "<style scoped>\n",
       "    .dataframe tbody tr th:only-of-type {\n",
       "        vertical-align: middle;\n",
       "    }\n",
       "\n",
       "    .dataframe tbody tr th {\n",
       "        vertical-align: top;\n",
       "    }\n",
       "\n",
       "    .dataframe thead th {\n",
       "        text-align: right;\n",
       "    }\n",
       "</style>\n",
       "<table border=\"1\" class=\"dataframe\">\n",
       "  <thead>\n",
       "    <tr style=\"text-align: right;\">\n",
       "      <th></th>\n",
       "      <th>ROAD_SYSTEM</th>\n",
       "      <th>SCOPE_OF_WORK</th>\n",
       "      <th>ADMINISTERED_BY</th>\n",
       "      <th>RESIDENCY</th>\n",
       "      <th>DISTRICT</th>\n",
       "      <th>MPO</th>\n",
       "      <th>PROGRAM_MANAGER</th>\n",
       "      <th>SMART_SCALE_INDICATOR</th>\n",
       "      <th>SMARTSCALE_COHORT</th>\n",
       "      <th>STATE_OF_GOOD_REPAIR_INDICATOR</th>\n",
       "      <th>BUDGET</th>\n",
       "      <th>ESTIMATE</th>\n",
       "    </tr>\n",
       "  </thead>\n",
       "  <tbody>\n",
       "    <tr>\n",
       "      <th>0</th>\n",
       "      <td>Secondary</td>\n",
       "      <td>Bridge Replacement w/ Added Capacity</td>\n",
       "      <td>VDOT</td>\n",
       "      <td>EDINBURG</td>\n",
       "      <td>Staunton</td>\n",
       "      <td>NonMPO:NonMPO</td>\n",
       "      <td>Infrastructure Investment Division</td>\n",
       "      <td>0</td>\n",
       "      <td>NaN</td>\n",
       "      <td>0</td>\n",
       "      <td>4355591.0</td>\n",
       "      <td>4355591.0</td>\n",
       "    </tr>\n",
       "    <tr>\n",
       "      <th>1</th>\n",
       "      <td>Primary</td>\n",
       "      <td>Facilities for Pedestrians and Bicycles</td>\n",
       "      <td>Locally</td>\n",
       "      <td>FAIRFAX</td>\n",
       "      <td>Northern Virginia</td>\n",
       "      <td>Northern Virginia:Fairfax County</td>\n",
       "      <td>Infrastructure Investment Division</td>\n",
       "      <td>0</td>\n",
       "      <td>NaN</td>\n",
       "      <td>0</td>\n",
       "      <td>3120000.0</td>\n",
       "      <td>2646633.0</td>\n",
       "    </tr>\n",
       "    <tr>\n",
       "      <th>2</th>\n",
       "      <td>Miscellaneous</td>\n",
       "      <td>Facilities for Pedestrians and Bicycles</td>\n",
       "      <td>Locally</td>\n",
       "      <td>MANASSAS</td>\n",
       "      <td>Northern Virginia</td>\n",
       "      <td>Northern Virginia:Prince William County</td>\n",
       "      <td>Infrastructure Investment Division</td>\n",
       "      <td>0</td>\n",
       "      <td>NaN</td>\n",
       "      <td>0</td>\n",
       "      <td>750000.0</td>\n",
       "      <td>750000.0</td>\n",
       "    </tr>\n",
       "  </tbody>\n",
       "</table>\n",
       "</div>"
      ],
      "text/plain": [
       "     ROAD_SYSTEM                            SCOPE_OF_WORK ADMINISTERED_BY  \\\n",
       "0      Secondary     Bridge Replacement w/ Added Capacity            VDOT   \n",
       "1        Primary  Facilities for Pedestrians and Bicycles         Locally   \n",
       "2  Miscellaneous  Facilities for Pedestrians and Bicycles         Locally   \n",
       "\n",
       "  RESIDENCY           DISTRICT                                      MPO  \\\n",
       "0  EDINBURG           Staunton                            NonMPO:NonMPO   \n",
       "1   FAIRFAX  Northern Virginia         Northern Virginia:Fairfax County   \n",
       "2  MANASSAS  Northern Virginia  Northern Virginia:Prince William County   \n",
       "\n",
       "                      PROGRAM_MANAGER  SMART_SCALE_INDICATOR  \\\n",
       "0  Infrastructure Investment Division                      0   \n",
       "1  Infrastructure Investment Division                      0   \n",
       "2  Infrastructure Investment Division                      0   \n",
       "\n",
       "   SMARTSCALE_COHORT  STATE_OF_GOOD_REPAIR_INDICATOR     BUDGET   ESTIMATE  \n",
       "0                NaN                               0  4355591.0  4355591.0  \n",
       "1                NaN                               0  3120000.0  2646633.0  \n",
       "2                NaN                               0   750000.0   750000.0  "
      ]
     },
     "execution_count": 27,
     "metadata": {},
     "output_type": "execute_result"
    }
   ],
   "source": [
    "#Add the project completed flag back in to the original dataframe so we can run predictions on all projects\n",
    "none = dev_df['START_DLVR_84_ACT_END_DT'].fillna('none')\n",
    "\n",
    "#list comprehension to map the new list to a binary and add to the trimmed df\n",
    "dev_df['COMPLETED_DEV'] = [0 if x == 'none'  else 1 for x in none]\n",
    "\n",
    "\n",
    "#trim the columns down to model parameters so that we can make predictions\n",
    "pred_df_trimmed = dev_df[completed_df.columns].drop(columns = ['ON_TIME_STATUS', 'COMPLETED_DEV'])\n",
    "pred_df_trimmed.head(3)"
   ]
  },
  {
   "cell_type": "code",
   "execution_count": 28,
   "metadata": {},
   "outputs": [
    {
     "data": {
      "text/html": [
       "<div>\n",
       "<style scoped>\n",
       "    .dataframe tbody tr th:only-of-type {\n",
       "        vertical-align: middle;\n",
       "    }\n",
       "\n",
       "    .dataframe tbody tr th {\n",
       "        vertical-align: top;\n",
       "    }\n",
       "\n",
       "    .dataframe thead th {\n",
       "        text-align: right;\n",
       "    }\n",
       "</style>\n",
       "<table border=\"1\" class=\"dataframe\">\n",
       "  <thead>\n",
       "    <tr style=\"text-align: right;\">\n",
       "      <th></th>\n",
       "      <th>UPC</th>\n",
       "      <th>DESCRIPTION</th>\n",
       "      <th>ROUTE</th>\n",
       "      <th>ROAD_SYSTEM</th>\n",
       "      <th>SCOPE_OF_WORK</th>\n",
       "      <th>ADMINISTERED_BY</th>\n",
       "      <th>CITY_COUNTY</th>\n",
       "      <th>RESIDENCY</th>\n",
       "      <th>DISTRICT</th>\n",
       "      <th>MPO</th>\n",
       "      <th>...</th>\n",
       "      <th>START_DLVR_84_PLND_END_DT</th>\n",
       "      <th>START_DLVR_84_ACT_END_DT</th>\n",
       "      <th>START_DELIVERY_84_STATUS</th>\n",
       "      <th>DASHBOARD_COMMENT</th>\n",
       "      <th>GENERATED_DATE</th>\n",
       "      <th>REFRESHED_DATE</th>\n",
       "      <th>ACCOMPLISHMENT</th>\n",
       "      <th>COMPLETED_DEV</th>\n",
       "      <th>Prediction</th>\n",
       "      <th>Probability of Red</th>\n",
       "    </tr>\n",
       "  </thead>\n",
       "  <tbody>\n",
       "    <tr>\n",
       "      <th>0</th>\n",
       "      <td>98956</td>\n",
       "      <td>RTE 761 ??? Replace Bridge 05453 &amp; Appr over O...</td>\n",
       "      <td>0761</td>\n",
       "      <td>Secondary</td>\n",
       "      <td>Bridge Replacement w/ Added Capacity</td>\n",
       "      <td>VDOT</td>\n",
       "      <td>Clarke County</td>\n",
       "      <td>EDINBURG</td>\n",
       "      <td>Staunton</td>\n",
       "      <td>NonMPO:NonMPO</td>\n",
       "      <td>...</td>\n",
       "      <td>2024-04-30</td>\n",
       "      <td>NaT</td>\n",
       "      <td>G</td>\n",
       "      <td>NaN</td>\n",
       "      <td>2021-02-21 11:00:12</td>\n",
       "      <td>2021-02-21 06:04:15</td>\n",
       "      <td>RAAP CONTRACT</td>\n",
       "      <td>0</td>\n",
       "      <td>0</td>\n",
       "      <td>0.063439</td>\n",
       "    </tr>\n",
       "    <tr>\n",
       "      <th>1</th>\n",
       "      <td>103262</td>\n",
       "      <td>Tyson East Sidewalk South Side of Route 123 -...</td>\n",
       "      <td>0123</td>\n",
       "      <td>Primary</td>\n",
       "      <td>Facilities for Pedestrians and Bicycles</td>\n",
       "      <td>Locally</td>\n",
       "      <td>Fairfax County</td>\n",
       "      <td>FAIRFAX</td>\n",
       "      <td>Northern Virginia</td>\n",
       "      <td>Northern Virginia:Fairfax County</td>\n",
       "      <td>...</td>\n",
       "      <td>2020-06-22</td>\n",
       "      <td>2019-04-15</td>\n",
       "      <td>G</td>\n",
       "      <td>NaN</td>\n",
       "      <td>2021-02-21 11:00:12</td>\n",
       "      <td>2021-02-21 06:04:15</td>\n",
       "      <td>NON VDOT</td>\n",
       "      <td>1</td>\n",
       "      <td>0</td>\n",
       "      <td>0.079800</td>\n",
       "    </tr>\n",
       "    <tr>\n",
       "      <th>2</th>\n",
       "      <td>106490</td>\n",
       "      <td>POTOMAC HERITAGE TRAIL AT FEATHERSTONE WILDLIF...</td>\n",
       "      <td>0006</td>\n",
       "      <td>Miscellaneous</td>\n",
       "      <td>Facilities for Pedestrians and Bicycles</td>\n",
       "      <td>Locally</td>\n",
       "      <td>Prince William County</td>\n",
       "      <td>MANASSAS</td>\n",
       "      <td>Northern Virginia</td>\n",
       "      <td>Northern Virginia:Prince William County</td>\n",
       "      <td>...</td>\n",
       "      <td>2019-04-30</td>\n",
       "      <td>NaT</td>\n",
       "      <td>R</td>\n",
       "      <td>Project advertisement is still underway</td>\n",
       "      <td>2021-02-21 11:00:12</td>\n",
       "      <td>2021-02-21 06:04:15</td>\n",
       "      <td>NON VDOT</td>\n",
       "      <td>0</td>\n",
       "      <td>1</td>\n",
       "      <td>0.213881</td>\n",
       "    </tr>\n",
       "  </tbody>\n",
       "</table>\n",
       "<p>3 rows × 98 columns</p>\n",
       "</div>"
      ],
      "text/plain": [
       "      UPC                                        DESCRIPTION ROUTE  \\\n",
       "0   98956  RTE 761 ??? Replace Bridge 05453 & Appr over O...  0761   \n",
       "1  103262   Tyson East Sidewalk South Side of Route 123 -...  0123   \n",
       "2  106490  POTOMAC HERITAGE TRAIL AT FEATHERSTONE WILDLIF...  0006   \n",
       "\n",
       "     ROAD_SYSTEM                            SCOPE_OF_WORK ADMINISTERED_BY  \\\n",
       "0      Secondary     Bridge Replacement w/ Added Capacity            VDOT   \n",
       "1        Primary  Facilities for Pedestrians and Bicycles         Locally   \n",
       "2  Miscellaneous  Facilities for Pedestrians and Bicycles         Locally   \n",
       "\n",
       "             CITY_COUNTY RESIDENCY           DISTRICT  \\\n",
       "0          Clarke County  EDINBURG           Staunton   \n",
       "1         Fairfax County   FAIRFAX  Northern Virginia   \n",
       "2  Prince William County  MANASSAS  Northern Virginia   \n",
       "\n",
       "                                       MPO  ... START_DLVR_84_PLND_END_DT  \\\n",
       "0                            NonMPO:NonMPO  ...                2024-04-30   \n",
       "1         Northern Virginia:Fairfax County  ...                2020-06-22   \n",
       "2  Northern Virginia:Prince William County  ...                2019-04-30   \n",
       "\n",
       "  START_DLVR_84_ACT_END_DT START_DELIVERY_84_STATUS  \\\n",
       "0                      NaT                        G   \n",
       "1               2019-04-15                        G   \n",
       "2                      NaT                        R   \n",
       "\n",
       "                         DASHBOARD_COMMENT      GENERATED_DATE  \\\n",
       "0                                      NaN 2021-02-21 11:00:12   \n",
       "1                                      NaN 2021-02-21 11:00:12   \n",
       "2  Project advertisement is still underway 2021-02-21 11:00:12   \n",
       "\n",
       "       REFRESHED_DATE ACCOMPLISHMENT COMPLETED_DEV Prediction  \\\n",
       "0 2021-02-21 06:04:15  RAAP CONTRACT             0          0   \n",
       "1 2021-02-21 06:04:15       NON VDOT             1          0   \n",
       "2 2021-02-21 06:04:15       NON VDOT             0          1   \n",
       "\n",
       "  Probability of Red  \n",
       "0           0.063439  \n",
       "1           0.079800  \n",
       "2           0.213881  \n",
       "\n",
       "[3 rows x 98 columns]"
      ]
     },
     "execution_count": 28,
     "metadata": {},
     "output_type": "execute_result"
    }
   ],
   "source": [
    "#initiate lists to hold the predictions and probabilities\n",
    "\n",
    "#Note that the probability threshold to classify a project as red is not 50% as it would be in an unweighted model\n",
    "#Weighting the classes means the actual threshold is somewhere around 16%, similar to the proportion of reds in the population\n",
    "#So, if the probability is over around 16%, the model is predicting \"Red\"\n",
    "\n",
    "preds = []\n",
    "probs = []\n",
    "\n",
    "#loop through all projects and make predictions, save the outputs to the two lists\n",
    "for x in pred_df_trimmed.index:\n",
    "    preds.append(svm.predict(pred_df_trimmed.loc[x:x])[0])\n",
    "    probs.append(svm.predict_proba(pred_df_trimmed.loc[x:x])[0][1])\n",
    "\n",
    "#Add the lists of predictions and probabilities back to the table\n",
    "dev_df['Prediction'] = preds\n",
    "dev_df['Probability of Red'] = probs\n",
    "\n",
    "dev_df.head(3)"
   ]
  },
  {
   "cell_type": "code",
   "execution_count": 29,
   "metadata": {},
   "outputs": [],
   "source": [
    "#Save the table to an excel document\n",
    "dev_df.to_excel('dev_projects_w_OT_predictions.xlsx')"
   ]
  },
  {
   "cell_type": "markdown",
   "metadata": {},
   "source": [
    "# Results and Interpretation\n",
    "\n",
    "### Using a Support Vector Machine (SVM) and weighting the response classes, we ended up with a model that is able to correctly identify around 50% of the projects that will finish the development process late. This sounds like a coin flip, but considering that only 16% of projects finish red, being able to correctly predict the outcome for half of them is not bad. Unfortunately, for each red project that the model correctly predicts, it also mistakenly predicts that two other green projects will be red. There are improvements to be made, but the results are promising for applying an out-of-the-box model to the data with little data preparation or model tuning."
   ]
  },
  {
   "cell_type": "markdown",
   "metadata": {},
   "source": [
    "# Takeaways and Improvements\n",
    "\n",
    "### Clearly, only using attributes about the project location, type of work, and other details is not enough to reliably identify projects that are likely to finish development late. I believe that lateness is driven largely by the schedule set out during scoping, so including information about the planned duration of development, which milestones are present in the template, and other information about the timeline of a project would be a large benefit to the predictive power of the model. There is also the possibility of including information about the life-to-date milestone performance of the project and how far into the development process the project is, which would give more information about a project's likelihood of finishing late.\n",
    "\n",
    "### Even without looking at milestones and durations, there is room to improve the model by tuning the hyperparameters of the support vector machine, as well as selecting the appropriate attributes to use in the predictive model.\n",
    "\n",
    "### Another major consideration is that the development process can be impacted by many external factors that will not be related to the project information. However, with enough historical data, I believe that a model could be able to see past that and recognize which types of projects are more likely to be impacted by these external factors, based on how similar projects have finished development late.\n",
    "\n",
    "### Ultimately, this was an interesting challenge and an excellent learning experience. I enjoyed working on this exercise and hope to have the opportunity to do this type of work in the future. "
   ]
  }
 ],
 "metadata": {
  "kernelspec": {
   "display_name": "Python 3",
   "language": "python",
   "name": "python3"
  },
  "language_info": {
   "codemirror_mode": {
    "name": "ipython",
    "version": 3
   },
   "file_extension": ".py",
   "mimetype": "text/x-python",
   "name": "python",
   "nbconvert_exporter": "python",
   "pygments_lexer": "ipython3",
   "version": "3.8.3"
  }
 },
 "nbformat": 4,
 "nbformat_minor": 4
}
